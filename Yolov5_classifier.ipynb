{
  "nbformat": 4,
  "nbformat_minor": 0,
  "metadata": {
    "accelerator": "GPU",
    "colab": {
      "provenance": [],
      "collapsed_sections": [],
      "include_colab_link": true
    },
    "kernelspec": {
      "display_name": "Python 3",
      "name": "python3"
    }
  },
  "cells": [
    {
      "cell_type": "markdown",
      "metadata": {
        "id": "view-in-github",
        "colab_type": "text"
      },
      "source": [
        "<a href=\"https://colab.research.google.com/github/ekalafatic/MelanoMolesSmart/blob/master/Yolov5_classifier.ipynb\" target=\"_parent\"><img src=\"https://colab.research.google.com/assets/colab-badge.svg\" alt=\"Open In Colab\"/></a>"
      ]
    },
    {
      "cell_type": "code",
      "metadata": {
        "colab": {
          "base_uri": "https://localhost:8080/"
        },
        "id": "YHEtzEk2UWct",
        "outputId": "4faef112-c568-4165-8110-0ae196b5a9a7"
      },
      "source": [
        "# Clonar YOLO v5\n",
        "!git clone https://github.com/ultralytics/yolov5"
      ],
      "execution_count": null,
      "outputs": [
        {
          "output_type": "stream",
          "name": "stdout",
          "text": [
            "Cloning into 'yolov5'...\n",
            "remote: Enumerating objects: 9966, done.\u001b[K\n",
            "remote: Counting objects: 100% (38/38), done.\u001b[K\n",
            "remote: Compressing objects: 100% (29/29), done.\u001b[K\n",
            "remote: Total 9966 (delta 15), reused 17 (delta 9), pack-reused 9928\u001b[K\n",
            "Receiving objects: 100% (9966/9966), 10.33 MiB | 19.48 MiB/s, done.\n",
            "Resolving deltas: 100% (6898/6898), done.\n"
          ]
        }
      ]
    },
    {
      "cell_type": "code",
      "metadata": {
        "id": "6_MpRSW2KOwn"
      },
      "source": [
        "rm data.yaml"
      ],
      "execution_count": null,
      "outputs": []
    },
    {
      "cell_type": "code",
      "metadata": {
        "id": "abfNp9dAJjZA"
      },
      "source": [
        "mv maligno* /content/Melanomas/test/maligno"
      ],
      "execution_count": null,
      "outputs": []
    },
    {
      "cell_type": "code",
      "metadata": {
        "colab": {
          "base_uri": "https://localhost:8080/"
        },
        "id": "KyXFNK2hHt5K",
        "outputId": "66d2a57c-3587-43bf-ad5d-0a41b2fdb9e1"
      },
      "source": [
        "# Clonar Dataset de Melanomas\n",
        "!git clone https://github.com/NicoGiuliano/Melanomas"
      ],
      "execution_count": null,
      "outputs": [
        {
          "output_type": "stream",
          "name": "stdout",
          "text": [
            "Cloning into 'Melanomas'...\n",
            "remote: Enumerating objects: 1902, done.\u001b[K\n",
            "remote: Counting objects: 100% (1902/1902), done.\u001b[K\n",
            "remote: Compressing objects: 100% (1899/1899), done.\u001b[K\n",
            "remote: Total 1902 (delta 1), reused 1902 (delta 1), pack-reused 0\u001b[K\n",
            "Receiving objects: 100% (1902/1902), 1.31 GiB | 32.02 MiB/s, done.\n",
            "Resolving deltas: 100% (1/1), done.\n",
            "Checking out files: 100% (4001/4001), done.\n"
          ]
        }
      ]
    },
    {
      "cell_type": "code",
      "metadata": {
        "colab": {
          "base_uri": "https://localhost:8080/"
        },
        "id": "LASjo8b_Hcun",
        "outputId": "bdf1bf8a-5de4-4fcc-e23a-afe11e8d7f15"
      },
      "source": [
        "# Sirve para contar cuantos archivos hay en una carpeta\n",
        "!ls /content/Melanomas/labels/valid/ | wc -l"
      ],
      "execution_count": null,
      "outputs": [
        {
          "output_type": "stream",
          "name": "stdout",
          "text": [
            "400\n"
          ]
        }
      ]
    },
    {
      "cell_type": "code",
      "metadata": {
        "colab": {
          "base_uri": "https://localhost:8080/"
        },
        "id": "BolVheWn77Cc",
        "outputId": "b4e52c41-bebf-4cc0-8ff4-e5a484c184ea"
      },
      "source": [
        "cd /content/yolov5/"
      ],
      "execution_count": null,
      "outputs": [
        {
          "output_type": "stream",
          "name": "stdout",
          "text": [
            "/content/yolov5\n"
          ]
        }
      ]
    },
    {
      "cell_type": "code",
      "metadata": {
        "id": "l7EQpcrRUfor"
      },
      "source": [
        "# Instalacion de Requerimientos\n",
        "!pip install -r requirements.txt"
      ],
      "execution_count": null,
      "outputs": []
    },
    {
      "cell_type": "code",
      "metadata": {
        "id": "UvKdMkS6tfwT"
      },
      "source": [
        "# Para conectar Google Drive\n",
        "from google.colab import drive\n",
        "drive.mount('/content/drive')"
      ],
      "execution_count": null,
      "outputs": []
    },
    {
      "cell_type": "code",
      "metadata": {
        "id": "s7660hHM9f2_"
      },
      "source": [
        "rm -r /content/Melanomas/labels/"
      ],
      "execution_count": null,
      "outputs": []
    },
    {
      "cell_type": "code",
      "metadata": {
        "colab": {
          "base_uri": "https://localhost:8080/",
          "height": 35
        },
        "id": "-QEJosS8MU9Z",
        "outputId": "b8be4c12-e33c-40bd-fdf9-155c5ecae480"
      },
      "source": [
        "pwd"
      ],
      "execution_count": null,
      "outputs": [
        {
          "output_type": "execute_result",
          "data": {
            "application/vnd.google.colaboratory.intrinsic+json": {
              "type": "string"
            },
            "text/plain": [
              "'/content/yolov5'"
            ]
          },
          "metadata": {},
          "execution_count": 46
        }
      ]
    },
    {
      "cell_type": "markdown",
      "metadata": {
        "id": "PBwbYR77ZiA5"
      },
      "source": [
        "Para descargar el dataset"
      ]
    },
    {
      "cell_type": "code",
      "metadata": {
        "id": "wv4Ptys6ZbDv"
      },
      "source": [
        "!zip -r /content/Melanomas.zip /content/Melanomas/"
      ],
      "execution_count": null,
      "outputs": []
    },
    {
      "cell_type": "code",
      "metadata": {
        "id": "ueltGU20Zdbh"
      },
      "source": [
        "from google.colab import files\n",
        "files.download(\"/content/Melanomas.zip\")"
      ],
      "execution_count": null,
      "outputs": []
    },
    {
      "cell_type": "code",
      "metadata": {
        "colab": {
          "base_uri": "https://localhost:8080/"
        },
        "id": "dk0o3WTn2EXa",
        "outputId": "27a43d64-4e26-4aa4-bd31-b8a5def85c05"
      },
      "source": [
        "cd yolov5/"
      ],
      "execution_count": null,
      "outputs": [
        {
          "output_type": "stream",
          "name": "stdout",
          "text": [
            "/content/yolov5\n"
          ]
        }
      ]
    },
    {
      "cell_type": "code",
      "metadata": {
        "colab": {
          "base_uri": "https://localhost:8080/"
        },
        "id": "GjO4itRwcdN1",
        "outputId": "cf7ff0e5-a674-4c1b-e727-5439b584fe53"
      },
      "source": [
        "#!python classifier.py --data ../Melanomas/data.yaml --cfg models/yolov5x.yaml --weights yolov5x.pt --batch 12 --epochs 10\n",
        "!python /content/yolov5/classifier.py --data Melanomas  --model yolov5s --epochs 20 --batch 1"
      ],
      "execution_count": null,
      "outputs": [
        {
          "output_type": "stream",
          "name": "stdout",
          "text": [
            "\u001b[34m\u001b[1mgithub: \u001b[0mup to date with https://github.com/ultralytics/yolov5 ✅\n",
            "YOLOv5 🚀 v6.0-94-g47fac9f torch 1.10.0+cu111 CUDA:0 (Tesla K80, 11441MiB)\n",
            "\n",
            "PATHHH ../Melanomas\n",
            "Training yolov5s on Melanomas dataset with 2 classes...\n",
            "Using cache found in /root/.cache/torch/hub/ultralytics_yolov5_master\n",
            "YOLOv5 🚀 v6.0-94-g47fac9f torch 1.10.0+cu111 CUDA:0 (Tesla K80, 11441MiB)\n",
            "\n",
            "Fusing layers... \n",
            "Model Summary: 213 layers, 7225885 parameters, 0 gradients\n",
            "/usr/local/lib/python3.7/dist-packages/thop/vision/basic_hooks.py:92: UserWarning: __floordiv__ is deprecated, and its behavior will change in a future version of pytorch. It currently rounds toward 0 (like the 'trunc' function NOT 'floor'). This results in incorrect rounding for negative values. To keep the current behavior, use torch.div(a, b, rounding_mode='trunc'), or for actual floor division, use torch.div(a, b, rounding_mode='floor').\n",
            "  kernel = torch.DoubleTensor([*(x[0].shape[2:])]) // torch.DoubleTensor(list((m.output_size,))).squeeze()\n",
            "Model Summary: 93 layers, 1149218 parameters, 1149218 gradients\n",
            "Image sizes 64 train, 64 test\n",
            "Using 2 dataloader workers\n",
            "Logging results to runs/train/exp18\n",
            "Starting training for 20 epochs...\n",
            "\n",
            "epoch     gpu_mem   train_loss  val_loss    accuracy    \n",
            "1/20      0.654G    0.463       0.583       0.74        : 100% 1400/1400 [02:27<00:00,  9.52it/s]\n",
            "2/20      0.654G    0.364       0.676       0.705       : 100% 1400/1400 [02:26<00:00,  9.53it/s]\n",
            "3/20      0.654G    0.336       0.663       0.69        : 100% 1400/1400 [02:24<00:00,  9.68it/s]\n",
            "4/20      0.654G    0.313       0.662       0.685       : 100% 1400/1400 [02:28<00:00,  9.45it/s]\n",
            "5/20      0.654G    0.303       0.591       0.715       : 100% 1400/1400 [02:24<00:00,  9.66it/s]\n",
            "6/20      0.654G    0.302       0.677       0.7         : 100% 1400/1400 [02:24<00:00,  9.72it/s]\n",
            "7/20      0.654G    0.281       0.604       0.72        : 100% 1400/1400 [02:29<00:00,  9.37it/s]\n",
            "8/20      0.654G    0.27        0.58        0.73        : 100% 1400/1400 [02:30<00:00,  9.32it/s]\n",
            "9/20      0.654G    0.261       0.632       0.73        : 100% 1400/1400 [02:27<00:00,  9.49it/s]\n",
            "10/20     0.654G    0.257       0.553       0.75        : 100% 1400/1400 [02:30<00:00,  9.29it/s]\n",
            "11/20     0.654G    0.256       0.567       0.755       : 100% 1400/1400 [02:32<00:00,  9.17it/s]\n",
            "12/20     0.654G    0.239       0.585       0.74        : 100% 1400/1400 [02:32<00:00,  9.16it/s]\n",
            "13/20     0.654G    0.245       0.595       0.735       : 100% 1400/1400 [02:29<00:00,  9.37it/s]\n",
            "14/20     0.654G    0.234       0.574       0.745       : 100% 1400/1400 [02:27<00:00,  9.52it/s]\n",
            "15/20     0.654G    0.238       0.595       0.745       : 100% 1400/1400 [02:26<00:00,  9.58it/s]\n",
            "16/20     0.654G    0.228       0.614       0.735       : 100% 1400/1400 [02:26<00:00,  9.57it/s]\n",
            "17/20     0.654G    0.229       0.625       0.735       : 100% 1400/1400 [02:27<00:00,  9.52it/s]\n",
            "18/20     0.654G    0.221       0.605       0.745       : 100% 1400/1400 [02:28<00:00,  9.44it/s]\n",
            "19/20     0.654G    0.232       0.619       0.735       : 100% 1400/1400 [02:26<00:00,  9.58it/s]\n",
            "20/20     0.654G    0.222       0.609       0.74        : 100% 1400/1400 [02:25<00:00,  9.65it/s]\n",
            "Training complete. Results saved to runs/train/exp18.\n"
          ]
        }
      ]
    },
    {
      "cell_type": "code",
      "metadata": {
        "id": "kWzZPhR87DVj"
      },
      "source": [
        "cp runs/train/exp3/weights/last.pt /content/drive/MyDrive/Deep_Learning/TP_Final"
      ],
      "execution_count": null,
      "outputs": []
    },
    {
      "cell_type": "code",
      "metadata": {
        "colab": {
          "base_uri": "https://localhost:8080/"
        },
        "id": "9fEC0mXH7QzZ",
        "outputId": "41e6faaa-2655-4f43-a0c5-3422f3d316a8"
      },
      "source": [
        "from google.colab import drive\n",
        "drive.mount('/content/drive')"
      ],
      "execution_count": null,
      "outputs": [
        {
          "output_type": "stream",
          "name": "stdout",
          "text": [
            "Mounted at /content/drive\n"
          ]
        }
      ]
    },
    {
      "cell_type": "markdown",
      "metadata": {
        "id": "nWgHMyaQa6cD"
      },
      "source": [
        "**Detección y Test**\n"
      ]
    },
    {
      "cell_type": "code",
      "metadata": {
        "id": "xD98vBWBUkFo"
      },
      "source": [
        "# Medir tiempos\n",
        "import time\n",
        "inicio = time.time()\n",
        "\n",
        "# Realizar deteccion (hay que modificarlo)\n",
        "!python detect.py --source /content/YoloCabezas/test/images --weights runs/train/exp/weights/best.pt --conf 0.2 --iou 0.0\n",
        "\n",
        "fin = time.time()\n",
        "print(\"tiempo: \", fin-inicio) \n",
        "print(\"promedio: \", (fin-inicio)/1020)"
      ],
      "execution_count": null,
      "outputs": []
    },
    {
      "cell_type": "code",
      "metadata": {
        "id": "pwI3Q2T9xnUt"
      },
      "source": [
        "# para realizar las pruebas con los datos de Test (hay que modificarlo)\n",
        "!python test.py --weights /content/yolov5/runs/train/exp4/weights/best.pt --data ../data.yaml --conf 0.01 --iou 0.0"
      ],
      "execution_count": null,
      "outputs": []
    }
  ]
}